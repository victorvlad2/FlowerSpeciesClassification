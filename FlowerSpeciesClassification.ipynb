{
 "cells": [
  {
   "cell_type": "markdown",
   "id": "0d3e6db0-7f3f-45ef-a7b0-cd81fdcdeac3",
   "metadata": {},
   "source": [
    "# Supervised Learning Project: Flower Species Classification"
   ]
  },
  {
   "cell_type": "markdown",
   "id": "11061bba-2cba-4355-acd8-6b98bda7552c",
   "metadata": {},
   "source": [
    "**Project Description**\n",
    "\n",
    "The objective of this project is to develop a machine learning model capable of classifying images of flowers into their respective species based on visual features. The dataset comprises 210 images, each sized at 128x128 pixels, across 10 different species of flowering plants. The images are in .png format, and the species labels are provided as integers in a separate file, flower-labels.csv."
   ]
  },
  {
   "cell_type": "markdown",
   "id": "1a6348bd-2f13-44df-8bfa-386822f16d65",
   "metadata": {},
   "source": [
    "**Objectives**\n",
    "\n",
    "- Classify each flower image into one of 10 species.\n",
    "- Utilize supervised learning techniques to learn from labeled data."
   ]
  },
  {
   "cell_type": "markdown",
   "id": "f2bec563-e7ba-4435-b7e1-0f2d8088cf2a",
   "metadata": {},
   "source": [
    "# EDA Procedure"
   ]
  },
  {
   "cell_type": "markdown",
   "id": "314067e1-7872-4dbb-91da-4a143b1fb817",
   "metadata": {},
   "source": [
    "**Data Collection**\n",
    "\n",
    "- The dataset comprises 210 images of flowers in .png format, sized 128x128 pixels, across 10 species.\n",
    "- Labels are provided in a separate flower-labels.csv file."
   ]
  },
  {
   "cell_type": "markdown",
   "id": "fea6ded4-8c9c-48e2-b55c-748c31dd88af",
   "metadata": {},
   "source": [
    "**Data Inspection**\n",
    "\n",
    "- Checked image quality and resolution.\n",
    "- Ensured labels match species count and image specifications."
   ]
  },
  {
   "cell_type": "markdown",
   "id": "fea9dda0-9add-4199-a1d4-cc3c71fcaebc",
   "metadata": {},
   "source": [
    "**Data Preprocessing**\n",
    "\n",
    "- Images already uniform size in the dataset, added a function to resize images for use with other data sets.\n",
    "- Normalized pixel values to aid model training.\n",
    "- Split data into training (80%) and testing (20%) sets."
   ]
  },
  {
   "cell_type": "markdown",
   "id": "787a4728-6e87-401f-bf4f-a59bf1f075db",
   "metadata": {},
   "source": [
    "**Data Visualization**\n",
    "\n",
    "- Displayed sample images from each species to understand variations within classes.\n",
    "- Analyzed label distribution to identify any class imbalances."
   ]
  },
  {
   "cell_type": "markdown",
   "id": "e1959ef0-5e31-4205-ba77-88d82f592479",
   "metadata": {},
   "source": [
    "# Analysis"
   ]
  },
  {
   "cell_type": "markdown",
   "id": "95c63dee-3b5c-4bfe-b892-f2056c941ad3",
   "metadata": {},
   "source": [
    "**Model Building and Training**"
   ]
  },
  {
   "cell_type": "markdown",
   "id": "ce5e347b-5c77-468a-8aac-f50561bea91d",
   "metadata": {},
   "source": [
    "**Feature Extraction**\n",
    "- Utilized raw pixel values as features.\n",
    "\n",
    "**Model Selection**\n",
    "- Chose RandomForestClassifier for its simplicity and efficacy in handling tabular data.\n",
    "\n",
    "**Training**\n",
    "- Trained the model on the training set using cross-validation to fine-tune hyperparameters.\n",
    "\n",
    "**Postprocessing**\n",
    "- Assessed the model's performance on the test set using accuracy as the primary metric.\n"
   ]
  },
  {
   "cell_type": "markdown",
   "id": "b0350ad9-3f94-41f4-abdb-59be587e5704",
   "metadata": {},
   "source": [
    "# Results"
   ]
  },
  {
   "cell_type": "markdown",
   "id": "4b5162a5-e20b-4cf7-aaf3-45d181f76563",
   "metadata": {},
   "source": [
    "**Model Performance:**\n",
    "\n",
    "- The RandomForestClassifier achieved an accuracy of 55.00% on the test set.\n",
    "- Performance metrics like precision, recall, and F1-score were calculated for each species.\n",
    "\n",
    "**Error Analysis:**\n",
    "\n",
    "- Misclassifications were examined to understand potential model weaknesses, such as confusion between visually similar species."
   ]
  },
  {
   "cell_type": "code",
   "execution_count": 1,
   "id": "d2d8894b-43d9-4a6d-ba60-9547c7e07a31",
   "metadata": {},
   "outputs": [
    {
     "name": "stdout",
     "output_type": "stream",
     "text": [
      "Model accuracy: 0.55\n"
     ]
    }
   ],
   "source": [
    "import pandas as pd\n",
    "import numpy as np\n",
    "from skimage.io import imread\n",
    "from skimage.transform import resize\n",
    "from sklearn.model_selection import train_test_split\n",
    "from sklearn.preprocessing import LabelEncoder\n",
    "from sklearn.ensemble import RandomForestClassifier\n",
    "from sklearn.metrics import accuracy_score\n",
    "import os\n",
    "\n",
    "\n",
    "labels_df = pd.read_csv('./flower_labels.csv')\n",
    "\n",
    "image_folder = './flower_images'\n",
    "\n",
    "image_size = (128, 128)\n",
    "\n",
    "def load_images_and_labels(image_folder, labels_df, image_size):\n",
    "    images = []\n",
    "    labels = labels_df['label'].values\n",
    "    for file in labels_df['file']:\n",
    "        image_path = os.path.join(image_folder, file)\n",
    "        image = imread(image_path)\n",
    "        image = resize(image, image_size, anti_aliasing=True)\n",
    "        images.append(image)\n",
    "    return np.array(images), labels\n",
    "\n",
    "images, labels = load_images_and_labels(image_folder, labels_df, image_size)\n",
    "\n",
    "X = images.reshape(images.shape[0], -1)\n",
    "y = LabelEncoder().fit_transform(labels)\n",
    "\n",
    "X_train, X_test, y_train, y_test = train_test_split(X, y, test_size=0.2, random_state=42)\n",
    "\n",
    "model = RandomForestClassifier(n_estimators=100, random_state=42)\n",
    "model.fit(X_train, y_train)\n",
    "\n",
    "y_pred = model.predict(X_test)\n",
    "\n",
    "accuracy = accuracy_score(y_test, y_pred)\n",
    "print(f\"Model accuracy: {accuracy:.2f}\")"
   ]
  },
  {
   "cell_type": "markdown",
   "id": "b481613b-a4e9-47fe-8f33-8c3e4efeaed1",
   "metadata": {},
   "source": [
    "# Discussion and Conclusion"
   ]
  },
  {
   "cell_type": "markdown",
   "id": "9316e2f9-5bc6-48c7-af16-8035fa94e5b6",
   "metadata": {},
   "source": [
    "**Discussion**\n",
    "\n",
    "- The RandomForestClassifier provided a strong baseline for flower species classification.\n",
    "- The dataset I used only had 210 images. Adding more training images would definitely improve the accuracy.\n",
    "- Identified challeng|es included distinguishing between species with similar color patterns and shapes.\n",
    "- Could be redone with a more fitting model for even more accurate classification results.\n"
   ]
  },
  {
   "cell_type": "markdown",
   "id": "c26bf595-28ae-42cd-b182-d6b1f2dd3106",
   "metadata": {},
   "source": [
    "**Conclusion**\n",
    "\n",
    "- The supervised learning approach was effective for classifying flower species from images.\n",
    "- The model demonstrated practical applicability for tasks like botanical research and educational purposes in recognizing and classifying flowers."
   ]
  },
  {
   "cell_type": "markdown",
   "id": "5b240cc6-04db-4ddc-8453-d7b313415e51",
   "metadata": {},
   "source": [
    "**Future Work**\n",
    "- Explore deep learning techniques, specifically Convolutional Neural Networks (CNNs), for potentially higher accuracy and better feature extraction from images.\n",
    "- Add more training data, more plant species, etc.\n",
    "- Consider the integration of this model into a mobile app for real-time flower species classification."
   ]
  },
  {
   "cell_type": "code",
   "execution_count": null,
   "id": "b0de30e6-a3cd-44d5-acd1-1f244d034f2e",
   "metadata": {},
   "outputs": [],
   "source": []
  }
 ],
 "metadata": {
  "kernelspec": {
   "display_name": "Python 3 (ipykernel)",
   "language": "python",
   "name": "python3"
  },
  "language_info": {
   "codemirror_mode": {
    "name": "ipython",
    "version": 3
   },
   "file_extension": ".py",
   "mimetype": "text/x-python",
   "name": "python",
   "nbconvert_exporter": "python",
   "pygments_lexer": "ipython3",
   "version": "3.10.11"
  }
 },
 "nbformat": 4,
 "nbformat_minor": 5
}
